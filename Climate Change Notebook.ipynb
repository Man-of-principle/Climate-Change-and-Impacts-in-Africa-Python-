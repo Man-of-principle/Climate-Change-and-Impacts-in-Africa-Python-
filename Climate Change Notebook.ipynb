{
 "cells": [
  {
   "cell_type": "markdown",
   "id": "b96314b9",
   "metadata": {},
   "source": [
    "## Instructions\n",
    "\n",
    "The head of analytics in your organization has specifically asked you to do the following:\n",
    "\n",
    "\n",
    "1. Clean and tidy the datasets. \n",
    "2. Create a line plot to show the trend of `CO2` levels across the African regions.\n",
    "3. Determine the relationship between time (`Year`) and `CO2` levels across the African regions.\n",
    "4. Determine if there is a significant difference in the `CO2` levels among the African Regions.\n",
    "5. Determine the most common (top 5) industries in each African region.\n",
    "6. Determine the industry responsible for the most amount of CO2 (on average) in each African Region.\n",
    "7. Predict the `CO2` levels (at each African region) in the year 2025.\n",
    "8. Determine if `CO2` levels affect annual `temperature` in the selected African countries."
   ]
  },
  {
   "cell_type": "code",
   "execution_count": 12,
   "id": "f0abee1d",
   "metadata": {
    "executionCancelledAt": null,
    "executionTime": 2773,
    "lastExecutedAt": 1692621930409,
    "lastScheduledRunId": null,
    "lastSuccessfullyExecutedCode": "# Setup\nimport pandas as pd\nimport numpy as np\nimport pingouin\nfrom sklearn.linear_model import LinearRegression\nfrom statsmodels.regression.linear_model import OLS\nimport seaborn as sns\nimport matplotlib.pyplot as plt\nimport inspect\n\nplt.style.use('ggplot')\n# The sheet names containing our datasets\nsheet_names = ['IPCC 2006', 'TOTALS BY COUNTRY']\n\n# The column names of the dataset starts from rows 11\n# Let's skip the first 10 rows\ndatasets = pd.read_excel('IEA_EDGAR_CO2_1970-2021.xlsx', sheet_name = sheet_names, skiprows = 10)\n\n# we need only the African regions\nafrican_regions = ['Eastern_Africa', 'Western_Africa', 'Southern_Africa', 'Northern_Africa']\n\nipcc_2006_africa = datasets['IPCC 2006'].query('C_group_IM24_sh in @african_regions')\n\ntotals_by_country_africa = datasets['TOTALS BY COUNTRY'].query('C_group_IM24_sh in @african_regions')\n\n\n# Read the temperatures datasets containing four African countries\n# One from each African Region:\n# Nigeria:    West Africa\n# Ethiopa :   East Africa\n# Tunisia:    North Africa\n# Mozambique: South Africa\ntemperatures = pd.read_csv('temperatures.csv')"
   },
   "outputs": [],
   "source": [
    "# Setup\n",
    "import pandas as pd\n",
    "import numpy as np\n",
    "import pingouin\n",
    "from sklearn.linear_model import LinearRegression\n",
    "from statsmodels.regression.linear_model import OLS\n",
    "import seaborn as sns\n",
    "import matplotlib.pyplot as plt\n",
    "import inspect\n",
    "\n",
    "plt.style.use('ggplot')\n",
    "# The sheet names containing our datasets\n",
    "sheet_names = ['IPCC 2006', 'TOTALS BY COUNTRY']\n",
    "\n",
    "# The column names of the dataset starts from rows 11\n",
    "# Let's skip the first 10 rows\n",
    "datasets = pd.read_excel('IEA_EDGAR_CO2_1970-2021.xlsx', sheet_name = sheet_names, skiprows = 10)\n",
    "\n",
    "# we need only the African regions\n",
    "african_regions = ['Eastern_Africa', 'Western_Africa', 'Southern_Africa', 'Northern_Africa']\n",
    "\n",
    "ipcc_2006_africa = datasets['IPCC 2006'].query('C_group_IM24_sh in @african_regions')\n",
    "\n",
    "totals_by_country_africa = datasets['TOTALS BY COUNTRY'].query('C_group_IM24_sh in @african_regions')\n",
    "\n",
    "\n",
    "# Read the temperatures datasets containing four African countries\n",
    "# One from each African Region:\n",
    "# Nigeria:    West Africa\n",
    "# Ethiopa :   East Africa\n",
    "# Tunisia:    North Africa\n",
    "# Mozambique: South Africa\n",
    "temperatures = pd.read_csv('temperatures.csv')"
   ]
  },
  {
   "cell_type": "markdown",
   "id": "ef293e8f",
   "metadata": {},
   "source": [
    "## Instruction 1: Clean and tidy the datasets\n",
    "\n",
    "### Tasks\n",
    "\n",
    "- Rename `C_group_IM24_sh` to `Region`, `Country_code_A3` to `Code`, and `ipcc_code_2006_for_standard_report_name` to `Industry` in the corresponding African datasets.\n",
    "- Drop `IPCC_annex`, `ipcc_code_2006_for_standard_report`, and `Substance` from the corresponding datasets.\n",
    "- Melt `Y_1970` to `Y_2021` into a two columns `Year` and `CO2`. Drop rows where `CO2` is missing.\n",
    "- Convert `Year` to `int` type.\n"
   ]
  },
  {
   "cell_type": "code",
   "execution_count": 14,
   "id": "6b7a4ed9",
   "metadata": {
    "chartConfig": {
     "bar": {
      "hasRoundedCorners": true,
      "stacked": false
     },
     "type": "bar",
     "version": "v1"
    },
    "executionCancelledAt": null,
    "executionTime": 61,
    "lastExecutedAt": 1692621938714,
    "lastScheduledRunId": null,
    "lastSuccessfullyExecutedCode": "#renaming\nipcc_2006_africa = ipcc_2006_africa.rename(columns={'C_group_IM24_sh': 'Region', 'Country_code_A3': 'Code',\n                                                        'ipcc_code_2006_for_standard_report_name': 'Industry'})\ntotals_by_country_africa = totals_by_country_africa.rename(columns={'C_group_IM24_sh': 'Region','Country_code_A3': 'Code'})\n\n# drop columns\nipcc_2006_africa = ipcc_2006_africa.drop(['IPCC_annex','ipcc_code_2006_for_standard_report','Substance'],axis=1)\n\ntotals_by_country_africa = totals_by_country_africa.drop(['IPCC_annex', 'Substance'], axis=1)\n\n    # Melt and clean Year column\n\ndef melt_clean(df):\n        value_vars = list(filter(lambda x: x.startswith('Y_'), df.columns))\n        id_vars = list(set(df.columns).difference(value_vars))\n\n        # melt\n        long = df.melt(\n            id_vars=id_vars,\n            value_vars=value_vars,\n            var_name='Year',\n            value_name='CO2')\n\n        # drop rows where co2 is missing\n        long = long[~long.CO2.isnull()]\n\n        # convert year to integer\n        long.Year = long.Year.str.replace('Y_', '').astype(int)\n\n        return long\n\nipcc_2006_africa = melt_clean(ipcc_2006_africa)\ntotals_by_country_africa = melt_clean(totals_by_country_africa)\n \n\n\n",
    "outputsMetadata": {
     "0": {
      "height": 194,
      "type": "dataFrame"
     }
    },
    "visualizeDataframe": false
   },
   "outputs": [],
   "source": [
    "#renaming\n",
    "ipcc_2006_africa = ipcc_2006_africa.rename(columns={'C_group_IM24_sh': 'Region', 'Country_code_A3': 'Code',\n",
    "                                                        'ipcc_code_2006_for_standard_report_name': 'Industry'})\n",
    "totals_by_country_africa = totals_by_country_africa.rename(columns={'C_group_IM24_sh': 'Region','Country_code_A3': 'Code'})\n",
    "\n",
    "# drop columns\n",
    "ipcc_2006_africa = ipcc_2006_africa.drop(['IPCC_annex','ipcc_code_2006_for_standard_report','Substance'],axis=1)\n",
    "\n",
    "totals_by_country_africa = totals_by_country_africa.drop(['IPCC_annex', 'Substance'], axis=1)\n",
    "\n",
    "    # Melt and clean Year column\n",
    "\n",
    "def melt_clean(df):\n",
    "        value_vars = list(filter(lambda x: x.startswith('Y_'), df.columns))\n",
    "        id_vars = list(set(df.columns).difference(value_vars))\n",
    "\n",
    "        # melt\n",
    "        long = df.melt(\n",
    "            id_vars=id_vars,\n",
    "            value_vars=value_vars,\n",
    "            var_name='Year',\n",
    "            value_name='CO2')\n",
    "\n",
    "        # drop rows where co2 is missing\n",
    "        long = long[~long.CO2.isnull()]\n",
    "\n",
    "        # convert year to integer\n",
    "        long.Year = long.Year.str.replace('Y_', '').astype(int)\n",
    "\n",
    "        return long\n",
    "\n",
    "ipcc_2006_africa = melt_clean(ipcc_2006_africa)\n",
    "totals_by_country_africa = melt_clean(totals_by_country_africa)\n",
    " \n",
    "\n",
    "\n"
   ]
  },
  {
   "cell_type": "markdown",
   "id": "de4098f3",
   "metadata": {},
   "source": [
    "## Instruction 2: Show the trend of `CO2` levels across the African regions\n",
    "\n",
    "### Tasks\n",
    "\n",
    "- Using `totals_by_country_africa`, create a line plot of `CO2` vs. `Year` in each `Region` to show the trend of CO2 levels by year."
   ]
  },
  {
   "cell_type": "code",
   "execution_count": 16,
   "id": "705e9eb1",
   "metadata": {
    "executionCancelledAt": null,
    "executionTime": 3286,
    "lastExecutedAt": 1692621956382,
    "lastScheduledRunId": null,
    "lastSuccessfullyExecutedCode": "sns.lineplot(data = totals_by_country_africa,x='Year', y='CO2',hue='Region', ci = 0)\n\nplt.show()\n\n"
   },
   "outputs": [
    {
     "data": {
      "image/png": "[encoded data removed]",
      "text/plain": [
       "<Figure size 640x480 with 1 Axes>"
      ]
     },
     "metadata": {},
     "output_type": "display_data"
    }
   ],
   "source": [
    "sns.lineplot(data = totals_by_country_africa,x='Year', y='CO2',hue='Region', ci = 0)\n",
    "\n",
    "plt.show()\n",
    "\n"
   ]
  },
  {
   "cell_type": "markdown",
   "id": "e1b57c87",
   "metadata": {},
   "source": [
    "## Instruction 3: Determine the relationship between time (`Year`) and `CO2` levels across the African regions\n",
    "\n",
    "\n",
    "### Tasks\n",
    "\n",
    "- Using the `totals_by_country_africa` dataset, conduct a Spearman's correlation to determine the relationship between time (`Year`) and `CO2` within each African `Region`.\n",
    "- Save the results in a variable called `relationship_btw_time_CO2`.\n"
   ]
  },
  {
   "cell_type": "code",
   "execution_count": 18,
   "id": "58d929c4",
   "metadata": {
    "chartConfig": {
     "bar": {
      "hasRoundedCorners": true,
      "stacked": false
     },
     "type": "line",
     "version": "v1",
     "x": {
      "field": "CO2",
      "type": "number"
     },
     "y": {
      "field": "Year",
      "type": "number"
     }
    },
    "executionCancelledAt": null,
    "executionTime": 24,
    "lastExecutedAt": 1692621973185,
    "lastScheduledRunId": null,
    "lastSuccessfullyExecutedCode": "# Your code here\nx = totals_by_country_africa.groupby(\"Region\")[\"Year\", \"CO2\"]\nrelationship_btw_time_CO2 =x.corr(method ='spearman')\nrelationship_btw_time_CO2.head()",
    "outputsMetadata": {
     "0": {
      "height": 196,
      "type": "dataFrame"
     }
    },
    "visualizeDataframe": false
   },
   "outputs": [
    {
     "data": {
      "application/com.datacamp.data-table.v1+json": {
       "table": {
        "data": [
         {
          "CO2": 0.181767864,
          "Region": "Eastern_Africa",
          "Year": 1,
          "level_1": "Year"
         },
         {
          "CO2": 1,
          "Region": "Eastern_Africa",
          "Year": 0.181767864,
          "level_1": "CO2"
         },
         {
          "CO2": 0.4298746979,
          "Region": "Northern_Africa",
          "Year": 1,
          "level_1": "Year"
         },
         {
          "CO2": 1,
          "Region": "Northern_Africa",
          "Year": 0.4298746979,
          "level_1": "CO2"
         },
         {
          "CO2": 0.2609858157,
          "Region": "Southern_Africa",
          "Year": 1,
          "level_1": "Year"
         }
        ],
        "schema": {
         "fields": [
          {
           "name": "Region",
           "type": "string"
          },
          {
           "name": "level_1",
           "type": "string"
          },
          {
           "name": "Year",
           "type": "number"
          },
          {
           "name": "CO2",
           "type": "number"
          }
         ],
         "pandas_version": "1.4.0",
         "primaryKey": [
          "Region",
          "level_1"
         ]
        }
       },
       "total_rows": 5,
       "truncation_type": null
      },
      "text/html": [
       "<div>\n",
       "<style scoped>\n",
       "    .dataframe tbody tr th:only-of-type {\n",
       "        vertical-align: middle;\n",
       "    }\n",
       "\n",
       "    .dataframe tbody tr th {\n",
       "        vertical-align: top;\n",
       "    }\n",
       "\n",
       "    .dataframe thead th {\n",
       "        text-align: right;\n",
       "    }\n",
       "</style>\n",
       "<table border=\"1\" class=\"dataframe\">\n",
       "  <thead>\n",
       "    <tr style=\"text-align: right;\">\n",
       "      <th></th>\n",
       "      <th></th>\n",
       "      <th>Year</th>\n",
       "      <th>CO2</th>\n",
       "    </tr>\n",
       "    <tr>\n",
       "      <th>Region</th>\n",
       "      <th></th>\n",
       "      <th></th>\n",
       "      <th></th>\n",
       "    </tr>\n",
       "  </thead>\n",
       "  <tbody>\n",
       "    <tr>\n",
       "      <th rowspan=\"2\" valign=\"top\">Eastern_Africa</th>\n",
       "      <th>Year</th>\n",
       "      <td>1.000000</td>\n",
       "      <td>0.181768</td>\n",
       "    </tr>\n",
       "    <tr>\n",
       "      <th>CO2</th>\n",
       "      <td>0.181768</td>\n",
       "      <td>1.000000</td>\n",
       "    </tr>\n",
       "    <tr>\n",
       "      <th rowspan=\"2\" valign=\"top\">Northern_Africa</th>\n",
       "      <th>Year</th>\n",
       "      <td>1.000000</td>\n",
       "      <td>0.429875</td>\n",
       "    </tr>\n",
       "    <tr>\n",
       "      <th>CO2</th>\n",
       "      <td>0.429875</td>\n",
       "      <td>1.000000</td>\n",
       "    </tr>\n",
       "    <tr>\n",
       "      <th>Southern_Africa</th>\n",
       "      <th>Year</th>\n",
       "      <td>1.000000</td>\n",
       "      <td>0.260986</td>\n",
       "    </tr>\n",
       "  </tbody>\n",
       "</table>\n",
       "</div>"
      ],
      "text/plain": [
       "                          Year       CO2\n",
       "Region                                  \n",
       "Eastern_Africa  Year  1.000000  0.181768\n",
       "                CO2   0.181768  1.000000\n",
       "Northern_Africa Year  1.000000  0.429875\n",
       "                CO2   0.429875  1.000000\n",
       "Southern_Africa Year  1.000000  0.260986"
      ]
     },
     "execution_count": 18,
     "metadata": {},
     "output_type": "execute_result"
    }
   ],
   "source": [
    "# Your code here\n",
    "x = totals_by_country_africa.groupby(\"Region\")[\"Year\", \"CO2\"]\n",
    "relationship_btw_time_CO2 =x.corr(method ='spearman')\n",
    "relationship_btw_time_CO2.head()"
   ]
  },
  {
   "cell_type": "markdown",
   "id": "5a8964d3",
   "metadata": {},
   "source": [
    "## Instruction 4: Determine if there is a significant difference in the CO2 levels among the African Regions\n",
    "\n",
    "### Tasks\n",
    "\n",
    "- Using `totals_by_country_africa`, conduct an ANOVA using `pingouin.anova()` on the `CO2` by `Region`. Save the results as `aov_results`.\n",
    "- Conduct a posthoc test (with Bonferroni correction) using `pingouin.pairwise_tests()` to find the source of the significant difference. Save the results as `pw_ttest_result`.\n",
    "- Is it true that the `CO2` levels of the `Southern_Africa` and `Northern_Africa` region do not differ significantly? The previous task should provide you with the answer."
   ]
  },
  {
   "cell_type": "code",
   "execution_count": 20,
   "id": "5c2415a5",
   "metadata": {
    "executionCancelledAt": null,
    "executionTime": 51,
    "lastExecutedAt": 1692621984744,
    "lastScheduledRunId": null,
    "lastSuccessfullyExecutedCode": "aov_results = pingouin.anova(data=totals_by_country_africa, dv='CO2', between='Region')\n    \npw_ttest_result = pingouin.pairwise_tests(data=totals_by_country_africa, dv='CO2', between='Region', padjust=\"bonf\").round(3)"
   },
   "outputs": [],
   "source": [
    "#ANOVA\n",
    "aov_results = pingouin.anova(data=totals_by_country_africa, dv='CO2', between='Region') \n",
    "    \n",
    "pw_ttest_result = pingouin.pairwise_tests(data=totals_by_country_africa, dv='CO2', between='Region', padjust=\"bonf\").round(3)"
   ]
  },
  {
   "cell_type": "markdown",
   "id": "deaa5570",
   "metadata": {},
   "source": [
    "## Instruction 5: Determine the most common (top 5) industries in each African region.\n",
    "\n",
    "### Tasks\n",
    "\n",
    "- Group the `ipcc_2006_africa` data by `Region` and `Industry`.\n",
    "- Count the occurrences of each `Industry` within each `Region` and name it `Count`.\n",
    "- Sort the data within each region group by `Count` in descending order\n",
    "- Get the top 5 industries for each region\n",
    "- save it to variable `top_5_industries` for each region."
   ]
  },
  {
   "cell_type": "code",
   "execution_count": 22,
   "id": "1fe9ff92",
   "metadata": {
    "executionCancelledAt": null,
    "executionTime": 18,
    "lastExecutedAt": 1692621994392,
    "lastScheduledRunId": null,
    "lastSuccessfullyExecutedCode": "grouped = ipcc_2006_africa.groupby(['Region', 'Industry']).size().reset_index(name='Count')\n\ngrouped = grouped.sort_values(['Region', 'Count'], ascending=[True, False])\n\ntop_5_industries = grouped.groupby('Region').head(5).reset_index(drop=True)\n",
    "outputsMetadata": {
     "0": {
      "height": 427,
      "type": "stream"
     }
    }
   },
   "outputs": [],
   "source": [
    "grouped = ipcc_2006_africa.groupby(['Region', 'Industry']).size().reset_index(name='Count')\n",
    "\n",
    "grouped = grouped.sort_values(['Region', 'Count'], ascending=[True, False])\n",
    "\n",
    "top_5_industries = grouped.groupby('Region').head(5).reset_index(drop=True)\n"
   ]
  },
  {
   "cell_type": "markdown",
   "id": "cefe86c6",
   "metadata": {},
   "source": [
    "## Instruction 6: Determine the industry responsible for the most amount of CO2 (on average) in each African Region\n",
    "\n",
    "### Tasks\n",
    "\n",
    "- Group the `ipcc_2006_africa` data by `Region` and `Industry`.\n",
    "- Calculate the average `CO2` emissions for each group.\n",
    "- Find the `Industry` with the maximum average `CO2` emissions in each region."
   ]
  },
  {
   "cell_type": "code",
   "execution_count": 24,
   "id": "1484b1d1",
   "metadata": {
    "executionCancelledAt": null,
    "executionTime": 24,
    "lastExecutedAt": 1692622004897,
    "lastScheduledRunId": null,
    "lastSuccessfullyExecutedCode": "grouped = ipcc_2006_africa.groupby(['Region', 'Industry'])['CO2'].mean().reset_index()\n\nmax_co2_industries = grouped.loc[grouped.groupby('Region')['CO2'].idxmax()].reset_index(drop=True)\n\n\n\nprint(max_co2_industries)",
    "outputsMetadata": {
     "0": {
      "height": 117,
      "type": "stream"
     }
    }
   },
   "outputs": [
    {
     "name": "stdout",
     "output_type": "stream",
     "text": [
      "            Region                                       Industry           CO2\n",
      "0   Eastern_Africa                  Residential and other sectors   7904.439282\n",
      "1  Northern_Africa  Main Activity Electricity and Heat Production  13612.230148\n",
      "2  Southern_Africa  Main Activity Electricity and Heat Production  11377.802504\n",
      "3   Western_Africa                  Residential and other sectors   8702.936136\n"
     ]
    }
   ],
   "source": [
    "grouped = ipcc_2006_africa.groupby(['Region', 'Industry'])['CO2'].mean().reset_index() #grouping and getting mean\n",
    "\n",
    "max_co2_industries = grouped.loc[grouped.groupby('Region')['CO2'].idxmax()].reset_index(drop=True)\n",
    "\n",
    "\n",
    "\n",
    "print(max_co2_industries)"
   ]
  },
  {
   "cell_type": "markdown",
   "id": "d8659ac7",
   "metadata": {},
   "source": [
    "## Instruction 7: Predict the `CO2` levels (at each African region) in the year 2025\n",
    "\n",
    "### Tasks\n",
    "\n",
    "- Create an instance of `LinearRegression()` and save it as `reg`.\n",
    "- Fit a linear model of `CO2` (in log base 10) by `Year` and `Region` using `reg.fit()`.\n",
    "- Predict the values of `CO2` using the `reg.predict()` and the data provided. Save the result as `predicted_co2`. \n",
    "- Convert `predicted_co2` values from log base 10 to decimals and round to 2 d.p using `np.round()`."
   ]
  },
  {
   "cell_type": "code",
   "execution_count": 28,
   "id": "f862c1b0",
   "metadata": {
    "executionCancelledAt": null,
    "executionTime": 51,
    "lastExecutedAt": 1692622240542,
    "lastScheduledRunId": null,
    "lastSuccessfullyExecutedCode": "reg = LinearRegression()\nnewdata = pd.DataFrame({ 'Year': 2025, 'Region': african_regions })\nnewdata = pd.get_dummies(newdata)\ntarget = np.log10(totals_by_country_africa['CO2'])\nfeats = pd.get_dummies(totals_by_country_africa[['Year', 'Region']])\nreg.fit(feats, target)\np = reg.predict(newdata)\npredicted_co2 = np.round(10**p, 2)\n   \n\n\n# data provided for you\n"
   },
   "outputs": [],
   "source": [
    "reg = LinearRegression() #initialization of model \n",
    "newdata = pd.DataFrame({ 'Year': 2025, 'Region': african_regions })\n",
    "newdata = pd.get_dummies(newdata)\n",
    "#spliting Target and feature matrix \n",
    "target = np.log10(totals_by_country_africa['CO2'])\n",
    "feats = pd.get_dummies(totals_by_country_africa[['Year', 'Region']])\n",
    "\n",
    "#model\n",
    "reg.fit(feats, target) \n",
    "p = reg.predict(newdata)\n",
    "predicted_co2 = np.round(10**p, 2)\n",
    "   \n",
    "\n",
    "\n",
    "# data provided for you\n"
   ]
  },
  {
   "cell_type": "markdown",
   "id": "1ad312dc",
   "metadata": {},
   "source": [
    "## Instruction 8: Determine if CO2 levels affect annual temperature in the selected African countries\n",
    "\n",
    "![relationship between co2 and temp](co2_temp.png)\n",
    "\n",
    "\n",
    "### Tasks\n",
    "\n",
    "- Select `Name`, `Year` and `CO2` of countries `countries`. Save the result as `selected_countries`.\n",
    "- Convert `temperatures` dataset from wide to long format. Set the new column names to `Name` and `Temperature`. Save the result as `temp_long`.\n",
    "- Perform an inner join between `selected_countries` and `temp_long` on `Name` and `Year`. Save the result as `joined`.\n",
    "- Create a linear model of `Temperature` by `CO2` and `Name`. Save the result as `model_temp`. *The code has been added for you.*\n",
    "- A one unit rise in log10 `CO2` leads to how many degrees rise in temperature? Run `model_temp.summary()` to find out!\n",
    "- What is the adjusted R squared value of the model?"
   ]
  },
  {
   "cell_type": "code",
   "execution_count": 33,
   "id": "40c9323c",
   "metadata": {
    "executionCancelledAt": null,
    "executionTime": 53,
    "lastExecutedAt": 1692622909167,
    "lastScheduledRunId": null,
    "lastSuccessfullyExecutedCode": "# Your code here\ncountries = [\"Ethiopia\", \"Mozambique\", \"Nigeria\", \"Tunisia\"]\n\nselected_countries =  totals_by_country_africa[['Name', 'Year','CO2']].query('Name in @countries')\n\n#Melting Temperature\ntemp_long = temperatures.melt(\n        id_vars=['Year'],\n        value_vars=countries,\n        var_name='Name',\n        value_name='Temperature')\n\n#joining Tables \njoined = pd.merge(selected_countries, temp_long, on=[\n            'Name', 'Year'], how='inner')\n\n# Provided for you\n# Uncomment and run to complete this task\nmodel_temp = OLS.from_formula(\"Temperature ~ np.log10(CO2) + Name\", data = joined).fit()\nmodel_temp.summary()"
   },
   "outputs": [
    {
     "data": {
      "text/html": [
       "<table class=\"simpletable\">\n",
       "<caption>OLS Regression Results</caption>\n",
       "<tr>\n",
       "  <th>Dep. Variable:</th>       <td>Temperature</td>   <th>  R-squared:         </th> <td>   0.985</td> \n",
       "</tr>\n",
       "<tr>\n",
       "  <th>Model:</th>                   <td>OLS</td>       <th>  Adj. R-squared:    </th> <td>   0.984</td> \n",
       "</tr>\n",
       "<tr>\n",
       "  <th>Method:</th>             <td>Least Squares</td>  <th>  F-statistic:       </th> <td>   3241.</td> \n",
       "</tr>\n",
       "<tr>\n",
       "  <th>Date:</th>             <td>Mon, 21 Aug 2023</td> <th>  Prob (F-statistic):</th> <td>1.22e-182</td>\n",
       "</tr>\n",
       "<tr>\n",
       "  <th>Time:</th>                 <td>13:01:49</td>     <th>  Log-Likelihood:    </th> <td> -54.347</td> \n",
       "</tr>\n",
       "<tr>\n",
       "  <th>No. Observations:</th>      <td>   208</td>      <th>  AIC:               </th> <td>   118.7</td> \n",
       "</tr>\n",
       "<tr>\n",
       "  <th>Df Residuals:</th>          <td>   203</td>      <th>  BIC:               </th> <td>   135.4</td> \n",
       "</tr>\n",
       "<tr>\n",
       "  <th>Df Model:</th>              <td>     4</td>      <th>                     </th>     <td> </td>    \n",
       "</tr>\n",
       "<tr>\n",
       "  <th>Covariance Type:</th>      <td>nonrobust</td>    <th>                     </th>     <td> </td>    \n",
       "</tr>\n",
       "</table>\n",
       "<table class=\"simpletable\">\n",
       "<tr>\n",
       "           <td></td>             <th>coef</th>     <th>std err</th>      <th>t</th>      <th>P>|t|</th>  <th>[0.025</th>    <th>0.975]</th>  \n",
       "</tr>\n",
       "<tr>\n",
       "  <th>Intercept</th>          <td>   13.4981</td> <td>    0.583</td> <td>   23.138</td> <td> 0.000</td> <td>   12.348</td> <td>   14.648</td>\n",
       "</tr>\n",
       "<tr>\n",
       "  <th>Name[T.Mozambique]</th> <td>    2.0759</td> <td>    0.090</td> <td>   23.021</td> <td> 0.000</td> <td>    1.898</td> <td>    2.254</td>\n",
       "</tr>\n",
       "<tr>\n",
       "  <th>Name[T.Nigeria]</th>    <td>    2.8345</td> <td>    0.092</td> <td>   30.884</td> <td> 0.000</td> <td>    2.654</td> <td>    3.016</td>\n",
       "</tr>\n",
       "<tr>\n",
       "  <th>Name[T.Tunisia]</th>    <td>   -1.6254</td> <td>    0.104</td> <td>  -15.673</td> <td> 0.000</td> <td>   -1.830</td> <td>   -1.421</td>\n",
       "</tr>\n",
       "<tr>\n",
       "  <th>np.log10(CO2)</th>      <td>    1.9472</td> <td>    0.117</td> <td>   16.620</td> <td> 0.000</td> <td>    1.716</td> <td>    2.178</td>\n",
       "</tr>\n",
       "</table>\n",
       "<table class=\"simpletable\">\n",
       "<tr>\n",
       "  <th>Omnibus:</th>       <td> 3.230</td> <th>  Durbin-Watson:     </th> <td>   1.896</td>\n",
       "</tr>\n",
       "<tr>\n",
       "  <th>Prob(Omnibus):</th> <td> 0.199</td> <th>  Jarque-Bera (JB):  </th> <td>   2.985</td>\n",
       "</tr>\n",
       "<tr>\n",
       "  <th>Skew:</th>          <td>-0.291</td> <th>  Prob(JB):          </th> <td>   0.225</td>\n",
       "</tr>\n",
       "<tr>\n",
       "  <th>Kurtosis:</th>      <td> 3.073</td> <th>  Cond. No.          </th> <td>    136.</td>\n",
       "</tr>\n",
       "</table><br/><br/>Notes:<br/>[1] Standard Errors assume that the covariance matrix of the errors is correctly specified."
      ],
      "text/plain": [
       "<class 'statsmodels.iolib.summary.Summary'>\n",
       "\"\"\"\n",
       "                            OLS Regression Results                            \n",
       "==============================================================================\n",
       "Dep. Variable:            Temperature   R-squared:                       0.985\n",
       "Model:                            OLS   Adj. R-squared:                  0.984\n",
       "Method:                 Least Squares   F-statistic:                     3241.\n",
       "Date:                Mon, 21 Aug 2023   Prob (F-statistic):          1.22e-182\n",
       "Time:                        13:01:49   Log-Likelihood:                -54.347\n",
       "No. Observations:                 208   AIC:                             118.7\n",
       "Df Residuals:                     203   BIC:                             135.4\n",
       "Df Model:                           4                                         \n",
       "Covariance Type:            nonrobust                                         \n",
       "======================================================================================\n",
       "                         coef    std err          t      P>|t|      [0.025      0.975]\n",
       "--------------------------------------------------------------------------------------\n",
       "Intercept             13.4981      0.583     23.138      0.000      12.348      14.648\n",
       "Name[T.Mozambique]     2.0759      0.090     23.021      0.000       1.898       2.254\n",
       "Name[T.Nigeria]        2.8345      0.092     30.884      0.000       2.654       3.016\n",
       "Name[T.Tunisia]       -1.6254      0.104    -15.673      0.000      -1.830      -1.421\n",
       "np.log10(CO2)          1.9472      0.117     16.620      0.000       1.716       2.178\n",
       "==============================================================================\n",
       "Omnibus:                        3.230   Durbin-Watson:                   1.896\n",
       "Prob(Omnibus):                  0.199   Jarque-Bera (JB):                2.985\n",
       "Skew:                          -0.291   Prob(JB):                        0.225\n",
       "Kurtosis:                       3.073   Cond. No.                         136.\n",
       "==============================================================================\n",
       "\n",
       "Notes:\n",
       "[1] Standard Errors assume that the covariance matrix of the errors is correctly specified.\n",
       "\"\"\""
      ]
     },
     "execution_count": 33,
     "metadata": {},
     "output_type": "execute_result"
    }
   ],
   "source": [
    "# Your code here\n",
    "countries = [\"Ethiopia\", \"Mozambique\", \"Nigeria\", \"Tunisia\"]\n",
    "\n",
    "selected_countries =  totals_by_country_africa[['Name', 'Year','CO2']].query('Name in @countries')\n",
    "\n",
    "#Melting Temperature\n",
    "temp_long = temperatures.melt(\n",
    "        id_vars=['Year'],\n",
    "        value_vars=countries,\n",
    "        var_name='Name',\n",
    "        value_name='Temperature')\n",
    "\n",
    "#joining Tables \n",
    "joined = pd.merge(selected_countries, temp_long, on=[\n",
    "            'Name', 'Year'], how='inner')\n",
    "\n",
    "\n",
    "model_temp = OLS.from_formula(\"Temperature ~ np.log10(CO2) + Name\", data = joined).fit()\n",
    "model_temp.summary()"
   ]
  }
 ],
 "metadata": {
  "editor": "DataCamp Workspace",
  "kernelspec": {
   "display_name": "Python 3 (ipykernel)",
   "language": "python",
   "name": "python3"
  },
  "language_info": {
   "codemirror_mode": {
    "name": "ipython",
    "version": 3
   },
   "file_extension": ".py",
   "mimetype": "text/x-python",
   "name": "python",
   "nbconvert_exporter": "python",
   "pygments_lexer": "ipython3",
   "version": "3.11.7"
  }
 },
 "nbformat": 4,
 "nbformat_minor": 5
}
